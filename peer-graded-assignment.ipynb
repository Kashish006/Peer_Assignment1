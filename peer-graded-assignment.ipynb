{
  "metadata": {
    "language_info": {
      "codemirror_mode": {
        "name": "python",
        "version": 3
      },
      "file_extension": ".py",
      "mimetype": "text/x-python",
      "name": "python",
      "nbconvert_exporter": "python",
      "pygments_lexer": "ipython3",
      "version": "3.8"
    },
    "kernelspec": {
      "name": "python",
      "display_name": "Python (Pyodide)",
      "language": "python"
    }
  },
  "nbformat_minor": 4,
  "nbformat": 4,
  "cells": [
    {
      "cell_type": "markdown",
      "source": "Peer-graded-assignment 1",
      "metadata": {}
    },
    {
      "cell_type": "markdown",
      "source": "Hello, I am Kashish\nThis notebook is an assignment for course tools for data science on Coursera",
      "metadata": {}
    },
    {
      "cell_type": "markdown",
      "source": "Some of the data science languages are: \n1. Python\n2. R\n3. SQL\n4. Java\n5. Scala\n6. Julia\n7. MATLAB\n8. JavaScript\n9. C++",
      "metadata": {}
    },
    {
      "cell_type": "markdown",
      "source": "Some of the data science libraries are:\n1. Pandas\n2. TensorFlow\n3. NumPy\n4. Matplotlib\n5. Scikit-learn\n6. SciPy\n7. PyTorch\n8. Keras",
      "metadata": {}
    },
    {
      "cell_type": "markdown",
      "source": "| S no. | Tools |\n| -------------| ------ |\n| 1 |TensorFlow |\n|2|Hadoop|\n|3|Spark|\n|4|Weka|\n|5|Tableau|\n|6|MatLab|\n|7|Keras|\n|8|PyTorch|",
      "metadata": {}
    },
    {
      "cell_type": "markdown",
      "source": "An arithmetic expression is an expression built up using numbers, arithmetic operators (such as +, , -, /  ) and parentheses, \"(\" and \")\". \nExample:\n- 5\n- 2+3\n- 4*4",
      "metadata": {}
    },
    {
      "cell_type": "code",
      "source": "a = 5*3\nb = 2+a\nprint(a)\nprint(b)",
      "metadata": {
        "trusted": true
      },
      "execution_count": 3,
      "outputs": [
        {
          "name": "stdout",
          "text": "15\n17\n",
          "output_type": "stream"
        }
      ]
    },
    {
      "cell_type": "code",
      "source": "minute = 60\nhour = minute/60\nprint(hour,\"hour\")",
      "metadata": {
        "trusted": true
      },
      "execution_count": 4,
      "outputs": [
        {
          "name": "stdout",
          "text": "1.0 hour\n",
          "output_type": "stream"
        }
      ]
    },
    {
      "cell_type": "markdown",
      "source": "__Objectives__\n1. To learn about jupyter notebook and it's functioning\n2. To learn about github\n3. To learn about data science tools and libraries",
      "metadata": {}
    },
    {
      "cell_type": "markdown",
      "source": "__Author details__\n- This notebook is written by Kashish student at CU",
      "metadata": {}
    },
    {
      "cell_type": "code",
      "source": "",
      "metadata": {},
      "execution_count": null,
      "outputs": []
    }
  ]
}